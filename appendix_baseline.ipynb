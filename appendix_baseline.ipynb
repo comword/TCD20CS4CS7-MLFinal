{
 "metadata": {
  "language_info": {
   "codemirror_mode": {
    "name": "ipython",
    "version": 3
   },
   "file_extension": ".py",
   "mimetype": "text/x-python",
   "name": "python",
   "nbconvert_exporter": "python",
   "pygments_lexer": "ipython3",
   "version": "3.7.9-final"
  },
  "orig_nbformat": 2,
  "kernelspec": {
   "name": "python3",
   "display_name": "Python 3",
   "language": "python"
  }
 },
 "nbformat": 4,
 "nbformat_minor": 2,
 "cells": [
  {
   "cell_type": "code",
   "execution_count": 1,
   "metadata": {},
   "outputs": [],
   "source": [
    "import numpy as np\n",
    "import json_lines\n",
    "\n",
    "from sklearn.feature_extraction.text import CountVectorizer, TfidfVectorizer\n",
    "from sklearn.metrics import roc_auc_score, roc_curve, confusion_matrix, accuracy_score"
   ]
  },
  {
   "cell_type": "code",
   "execution_count": 2,
   "metadata": {},
   "outputs": [
    {
     "output_type": "stream",
     "name": "stderr",
     "text": [
      "[nltk_data] Downloading package punkt to /Users/henorvell/nltk_data...\n[nltk_data]   Package punkt is already up-to-date!\n[nltk_data] Downloading package stopwords to\n[nltk_data]     /Users/henorvell/nltk_data...\n[nltk_data]   Package stopwords is already up-to-date!\n"
     ]
    },
    {
     "output_type": "execute_result",
     "data": {
      "text/plain": [
       "True"
      ]
     },
     "metadata": {},
     "execution_count": 2
    }
   ],
   "source": [
    "import nltk\n",
    "nltk.download('punkt')\n",
    "nltk.download('stopwords')"
   ]
  },
  {
   "cell_type": "code",
   "execution_count": 3,
   "metadata": {},
   "outputs": [],
   "source": [
    "X = []; y_voted_up=[]; y_early_access=[]\n",
    "with open('data/reviews_112_trans-en.jl', 'rb') as reader:\n",
    "    for line in json_lines.reader(reader):\n",
    "        X.append(line['trans_en'])\n",
    "        y_voted_up.append(line['voted_up'])\n",
    "        y_early_access.append(line['early_access'])"
   ]
  },
  {
   "cell_type": "code",
   "execution_count": 4,
   "metadata": {},
   "outputs": [],
   "source": [
    "y_voted_up = np.array(y_voted_up).astype(int)\n",
    "y_early_access = np.array(y_early_access).astype(int)"
   ]
  },
  {
   "cell_type": "code",
   "execution_count": 5,
   "metadata": {},
   "outputs": [
    {
     "output_type": "stream",
     "name": "stdout",
     "text": [
      "1 -gram vector shape:  (5000, 17115)\n",
      "2 -gram vector shape:  (5000, 143868)\n",
      "3 -gram vector shape:  (5000, 294497)\n"
     ]
    }
   ],
   "source": [
    "for ngram in range(1, 4):\n",
    "    vectorizer = TfidfVectorizer(\n",
    "        stop_words = nltk.corpus.stopwords.words('english'),\n",
    "        max_df=0.2, ngram_range=(1, ngram))\n",
    "    X_vec = vectorizer.fit_transform(X)\n",
    "    print(ngram, \"-gram vector shape: \", X_vec.shape)"
   ]
  },
  {
   "cell_type": "code",
   "execution_count": 6,
   "metadata": {},
   "outputs": [],
   "source": [
    "def print_confusion_matrix(preds, y_true):\n",
    "    tn, fp, fn, tp = confusion_matrix(y_true, preds).ravel()\n",
    "\n",
    "    print('Confusion matrix:')\n",
    "    print('[{}, {}]'.format(tp, fp))\n",
    "    print('[{}, {}]'.format(fn, tn))"
   ]
  },
  {
   "cell_type": "code",
   "execution_count": 7,
   "metadata": {},
   "outputs": [],
   "source": [
    "import matplotlib.pyplot as plt\n",
    "def plot_roc(pred, y):\n",
    "    fpr, tpr, thresholds = roc_curve(y, pred)\n",
    "    try:\n",
    "        auc = roc_auc_score(y, pred)\n",
    "    except ValueError:\n",
    "        auc = \"undefined\"\n",
    "\n",
    "    fig, ax = plt.subplots(1, figsize=(8,8))\n",
    "    ax.plot(fpr, tpr, color='red')\n",
    "    ax.plot([0,1], [0,1], color='black', linestyle='--')\n",
    "    ax.set_title(f\"AUC: {auc}\")"
   ]
  },
  {
   "cell_type": "code",
   "execution_count": 8,
   "metadata": {},
   "outputs": [],
   "source": [
    "from sklearn.dummy import DummyClassifier"
   ]
  },
  {
   "cell_type": "code",
   "execution_count": 9,
   "metadata": {},
   "outputs": [
    {
     "output_type": "stream",
     "name": "stdout",
     "text": [
      "Confusion matrix:\n[0, 0]\n[2500, 2500]\nAccuracy: 0.5000\n"
     ]
    }
   ],
   "source": [
    "model = DummyClassifier(strategy='most_frequent')\n",
    "model.fit(X_vec, y_voted_up)\n",
    "preds_proba = model.predict_proba(X_vec)\n",
    "preds = model.predict(X_vec)\n",
    "print_confusion_matrix(preds, y_voted_up)\n",
    "print('Accuracy: %.4f' % accuracy_score(y_voted_up, preds))"
   ]
  },
  {
   "source": [
    "Early access"
   ],
   "cell_type": "markdown",
   "metadata": {}
  },
  {
   "cell_type": "code",
   "execution_count": 10,
   "metadata": {},
   "outputs": [
    {
     "output_type": "stream",
     "name": "stdout",
     "text": [
      "Confusion matrix:\n[0, 0]\n[551, 4449]\nAccuracy: 0.8898\n"
     ]
    }
   ],
   "source": [
    "model = DummyClassifier(strategy='most_frequent')\n",
    "model.fit(X_vec, y_early_access)\n",
    "preds_proba = model.predict_proba(X_vec)\n",
    "preds = model.predict(X_vec)\n",
    "print_confusion_matrix(preds, y_early_access)\n",
    "print('Accuracy: %.4f' % accuracy_score(y_early_access, preds))"
   ]
  }
 ]
}