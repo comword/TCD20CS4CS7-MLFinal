{
 "cells": [
  {
   "cell_type": "markdown",
   "metadata": {},
   "source": [
    "To run the code, please setup the anaconda environment by running the following code.\n",
    "```bash\n",
    "conda env create -f env-gpu.yaml\n",
    "conda activate ML\n",
    "```"
   ]
  },
  {
   "cell_type": "code",
   "execution_count": 1,
   "metadata": {},
   "outputs": [],
   "source": [
    "import numpy as np\n",
    "import json_lines\n",
    "\n",
    "from keras_xlnet.backend import keras\n",
    "from keras_xlnet import PretrainedList, get_pretrained_paths\n",
    "from keras_xlnet import Tokenizer\n",
    "from keras_bert.layers import Extract\n",
    "from keras_xlnet import load_trained_model_from_checkpoint, ATTENTION_TYPE_BI\n",
    "\n",
    "from sklearn.model_selection import train_test_split"
   ]
  },
  {
   "cell_type": "markdown",
   "metadata": {},
   "source": [
    "Hyper-parameters"
   ]
  },
  {
   "cell_type": "code",
   "execution_count": 2,
   "metadata": {},
   "outputs": [],
   "source": [
    "EPOCH = 5\n",
    "BATCH_SIZE = 20\n",
    "SEQ_LEN = 128 # max length of sequence\n",
    "LR = 4e-6"
   ]
  },
  {
   "cell_type": "markdown",
   "metadata": {},
   "source": [
    "Use the pretrained model\n",
    "\n",
    "Download from [google](https://storage.googleapis.com/xlnet/released_models/cased_L-12_H-768_A-12.zip)\n",
    "\n",
    "Here it will download it automatically"
   ]
  },
  {
   "cell_type": "code",
   "execution_count": 3,
   "metadata": {},
   "outputs": [],
   "source": [
    "paths = get_pretrained_paths(PretrainedList.en_cased_base)"
   ]
  },
  {
   "cell_type": "markdown",
   "metadata": {},
   "source": [
    "Model definition"
   ]
  },
  {
   "cell_type": "code",
   "execution_count": 4,
   "metadata": {
    "tags": []
   },
   "outputs": [],
   "source": [
    "def get_model():\n",
    "    model = load_trained_model_from_checkpoint(\n",
    "        config_path=paths.config,\n",
    "        checkpoint_path=paths.model,\n",
    "        batch_size=BATCH_SIZE,\n",
    "        memory_len=256,\n",
    "        target_len=SEQ_LEN,\n",
    "        in_train_phase=False,\n",
    "        attention_type=ATTENTION_TYPE_BI,\n",
    "    )\n",
    "\n",
    "    last = Extract(index=-1, name='Extract')(model.output)\n",
    "    dense = keras.layers.Dense(units=768, activation='tanh', name='Dense')(last)\n",
    "    dropout = keras.layers.Dropout(rate=0.1, name='Dropout')(dense)\n",
    "    output = keras.layers.Dense(units=2, activation='softmax', name='Softmax')(dropout)\n",
    "    model = keras.models.Model(inputs=model.inputs, outputs=output)\n",
    "    # model.summary()\n",
    "\n",
    "    model.compile(\n",
    "        optimizer=keras.optimizers.Adam(lr=LR),\n",
    "        loss='sparse_categorical_crossentropy',\n",
    "        metrics=['sparse_categorical_accuracy'],\n",
    "    )\n",
    "    return model"
   ]
  },
  {
   "cell_type": "markdown",
   "metadata": {},
   "source": [
    "Data loader"
   ]
  },
  {
   "cell_type": "code",
   "execution_count": 5,
   "metadata": {},
   "outputs": [],
   "source": [
    "def load_data(tokenizer: Tokenizer, path, SEQ_LEN, text_label='trans_en', target_label='voted_up'):\n",
    "    tokens, classes = [], []\n",
    "    with open(path, 'rb') as reader:\n",
    "        for line in json_lines.reader(reader):\n",
    "            encoded = tokenizer.encode(line[text_label])[:SEQ_LEN - 1]\n",
    "            encoded = [tokenizer.SYM_PAD] * (SEQ_LEN - 1 - len(encoded)) + encoded + [tokenizer.SYM_CLS]\n",
    "            tokens.append(encoded)\n",
    "            classes.append(int(line[target_label]))\n",
    "    tokens, classes = np.array(tokens), np.array(classes)\n",
    "    return tokens, classes\n",
    "\n",
    "def get_X_array(X):\n",
    "    segments = np.zeros_like(X)\n",
    "    segments[:, -1] = 1\n",
    "    lengths = np.zeros_like(X[:, :1])\n",
    "    return [X, segments, lengths]"
   ]
  },
  {
   "cell_type": "code",
   "execution_count": 6,
   "metadata": {},
   "outputs": [],
   "source": [
    "def model_train(model, target_label='voted_up', model_name='xlnet_voted_up'):\n",
    "    X, y = load_data(tokenizer, 'data/reviews_112_trans-en.jl',\n",
    "        SEQ_LEN=SEQ_LEN, target_label=target_label)\n",
    "    X_train, X_test, y_train, y_test = train_test_split(X,\n",
    "        y, test_size=0.1, random_state=42)\n",
    "\n",
    "    mcp_save = keras.callbacks.ModelCheckpoint(\"result/\"+model_name+'.best.h5',\n",
    "        save_best_only=True, monitor='val_sparse_categorical_accuracy', mode='max')\n",
    "\n",
    "    model.fit(\n",
    "        get_X_array(X_train),\n",
    "        y_train,\n",
    "        epochs=EPOCH,\n",
    "        batch_size=BATCH_SIZE,\n",
    "        validation_split=0.1,\n",
    "        callbacks=[keras.callbacks.EarlyStopping(monitor='val_loss', patience=2), mcp_save]\n",
    "    )\n",
    "\n",
    "    model.save_weights(\"result/\"+model_name+\".h5\")"
   ]
  },
  {
   "cell_type": "code",
   "execution_count": 7,
   "metadata": {},
   "outputs": [],
   "source": [
    "tokenizer = Tokenizer(paths.vocab)"
   ]
  },
  {
   "cell_type": "markdown",
   "metadata": {},
   "source": [
    "# XLNet Voted up\n",
    "\n",
    "Training process"
   ]
  },
  {
   "cell_type": "code",
   "execution_count": 8,
   "metadata": {},
   "outputs": [
    {
     "name": "stdout",
     "output_type": "stream",
     "text": [
      "WARNING:tensorflow:From /users/pgrad/geto/anaconda3/envs/ML/lib/python3.8/site-packages/keras_transformer_xl/memory.py:72: calling Layer.add_update (from tensorflow.python.keras.engine.base_layer) with inputs is deprecated and will be removed in a future version.\n",
      "Instructions for updating:\n",
      "`inputs` is now automatically inferred\n",
      "Epoch 1/5\n",
      "203/203 [==============================] - 181s 894ms/step - loss: 0.6225 - sparse_categorical_accuracy: 0.6514 - val_loss: 0.4445 - val_sparse_categorical_accuracy: 0.7978\n",
      "Epoch 2/5\n",
      "203/203 [==============================] - 179s 881ms/step - loss: 0.4124 - sparse_categorical_accuracy: 0.8032 - val_loss: 0.4050 - val_sparse_categorical_accuracy: 0.8111\n",
      "Epoch 3/5\n",
      "203/203 [==============================] - 179s 880ms/step - loss: 0.2791 - sparse_categorical_accuracy: 0.8768 - val_loss: 0.4416 - val_sparse_categorical_accuracy: 0.8244\n",
      "Epoch 4/5\n",
      "203/203 [==============================] - 161s 793ms/step - loss: 0.1937 - sparse_categorical_accuracy: 0.9220 - val_loss: 0.4899 - val_sparse_categorical_accuracy: 0.8222\n"
     ]
    }
   ],
   "source": [
    "model = get_model()\n",
    "model_train(model, 'voted_up', 'xlnet_voted_up')"
   ]
  },
  {
   "cell_type": "markdown",
   "metadata": {},
   "source": [
    "Evaluation"
   ]
  },
  {
   "cell_type": "code",
   "execution_count": 9,
   "metadata": {},
   "outputs": [],
   "source": [
    "import json\n",
    "from sklearn.metrics import roc_auc_score, roc_curve, confusion_matrix, accuracy_score\n",
    "import matplotlib.pyplot as plt"
   ]
  },
  {
   "cell_type": "code",
   "execution_count": 10,
   "metadata": {},
   "outputs": [],
   "source": [
    "def plot_roc(pred, y):\n",
    "    fpr, tpr, thresholds = roc_curve(y, pred)\n",
    "    try:\n",
    "        auc = roc_auc_score(y, pred)\n",
    "    except ValueError:\n",
    "        auc = \"undefined\"\n",
    "\n",
    "    fig, ax = plt.subplots(1, figsize=(8,8))\n",
    "    ax.plot(fpr, tpr, color='red')\n",
    "    ax.plot([0,1], [0,1], color='black', linestyle='--')\n",
    "    ax.set_title(f\"AUC: {auc}\")"
   ]
  },
  {
   "cell_type": "code",
   "execution_count": 11,
   "metadata": {},
   "outputs": [],
   "source": [
    "model.load_weights(\"result/xlnet_voted_up.best.h5\")"
   ]
  },
  {
   "cell_type": "code",
   "execution_count": 12,
   "metadata": {},
   "outputs": [
    {
     "name": "stdout",
     "output_type": "stream",
     "text": [
      "250/250 [==============================] - 57s 228ms/step\n",
      "Confusion matrix:\n",
      "[2246, 137]\n",
      "[254, 2363]\n"
     ]
    }
   ],
   "source": [
    "X, y = load_data(tokenizer, 'data/reviews_112_trans-en.jl',\n",
    "        SEQ_LEN=SEQ_LEN, target_label='voted_up')\n",
    "preds = model.predict(get_X_array(X), verbose=True, batch_size=BATCH_SIZE)\n",
    "result_max = preds.argmax(axis=-1)\n",
    "tn, fp, fn, tp = confusion_matrix(y, result_max).ravel()\n",
    "\n",
    "print('Confusion matrix:')\n",
    "print('[{}, {}]'.format(tp, fp))\n",
    "print('[{}, {}]'.format(fn, tn))"
   ]
  },
  {
   "cell_type": "code",
   "execution_count": 13,
   "metadata": {},
   "outputs": [
    {
     "name": "stdout",
     "output_type": "stream",
     "text": [
      "Accuracy: 0.9218\n"
     ]
    }
   ],
   "source": [
    "print('Accuracy: %.4f' % accuracy_score(y, result_max))"
   ]
  },
  {
   "cell_type": "code",
   "execution_count": 14,
   "metadata": {
    "scrolled": true
   },
   "outputs": [
    {
     "data": {
      "image/png": "[encoded data removed]",
      "text/plain": [
       "<Figure size 576x576 with 1 Axes>"
      ]
     },
     "metadata": {
      "needs_background": "light"
     },
     "output_type": "display_data"
    }
   ],
   "source": [
    "plot_roc(preds[:,1], y)"
   ]
  }
 ],
 "metadata": {
  "kernelspec": {
   "display_name": "Python 3",
   "language": "python",
   "name": "python3"
  },
  "language_info": {
   "codemirror_mode": {
    "name": "ipython",
    "version": 3
   },
   "file_extension": ".py",
   "mimetype": "text/x-python",
   "name": "python",
   "nbconvert_exporter": "python",
   "pygments_lexer": "ipython3",
   "version": "3.8.5"
  }
 },
 "nbformat": 4,
 "nbformat_minor": 2
}
