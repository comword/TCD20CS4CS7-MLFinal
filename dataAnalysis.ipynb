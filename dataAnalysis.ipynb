{
 "metadata": {
  "language_info": {
   "codemirror_mode": {
    "name": "ipython",
    "version": 3
   },
   "file_extension": ".py",
   "mimetype": "text/x-python",
   "name": "python",
   "nbconvert_exporter": "python",
   "pygments_lexer": "ipython3",
   "version": "3.7.9-final"
  },
  "orig_nbformat": 2,
  "kernelspec": {
   "name": "python3",
   "display_name": "Python 3",
   "language": "python"
  }
 },
 "nbformat": 4,
 "nbformat_minor": 2,
 "cells": [
  {
   "cell_type": "code",
   "execution_count": 1,
   "metadata": {},
   "outputs": [],
   "source": [
    "import json_lines"
   ]
  },
  {
   "cell_type": "code",
   "execution_count": 3,
   "metadata": {},
   "outputs": [],
   "source": [
    "lang_map = {}\n",
    "with open('data/reviews_112_trans-en.jl', 'rb') as f:\n",
    "    for item in json_lines.reader(f):\n",
    "        src_lang = item['src_lang']\n",
    "        if src_lang in lang_map.keys():\n",
    "            lang_map[src_lang] += 1\n",
    "        else:\n",
    "            lang_map[src_lang] = 1"
   ]
  },
  {
   "cell_type": "code",
   "execution_count": 5,
   "metadata": {},
   "outputs": [
    {
     "output_type": "execute_result",
     "data": {
      "text/plain": [
       "{'ig': 1,\n",
       " 'mr': 1,\n",
       " 'mt': 1,\n",
       " 'tg': 1,\n",
       " 'uz': 1,\n",
       " 'sw': 1,\n",
       " 'mn': 1,\n",
       " 'fy': 1,\n",
       " 'bs': 1,\n",
       " 'gu': 1,\n",
       " 'ht': 1,\n",
       " 'lb': 1,\n",
       " 'la': 1,\n",
       " 'sl': 1,\n",
       " 'el': 2,\n",
       " 'az': 2,\n",
       " 'is': 2,\n",
       " 'yo': 2,\n",
       " 'so': 2,\n",
       " 'ha': 2,\n",
       " 'mk': 2,\n",
       " 'hr': 2,\n",
       " 'et': 3,\n",
       " 'ar': 3,\n",
       " 'ceb': 3,\n",
       " 'no': 3,\n",
       " 'haw': 3,\n",
       " 'nl': 3,\n",
       " 'ku': 4,\n",
       " 'af': 4,\n",
       " 'ky': 4,\n",
       " 'hi': 4,\n",
       " 'fi': 4,\n",
       " 'cy': 4,\n",
       " 'ms': 4,\n",
       " 'da': 5,\n",
       " 'vi': 5,\n",
       " 'be': 5,\n",
       " 'id': 6,\n",
       " 'sq': 6,\n",
       " 'tl': 6,\n",
       " 'sk': 9,\n",
       " 'ro': 10,\n",
       " 'sr': 13,\n",
       " 'sv': 14,\n",
       " 'bg': 17,\n",
       " 'uk': 18,\n",
       " 'th': 20,\n",
       " 'zh-TW': 21,\n",
       " 'hu': 29,\n",
       " 'cs': 30,\n",
       " 'ja': 32,\n",
       " 'it': 36,\n",
       " 'ko': 50,\n",
       " 'fr': 92,\n",
       " 'pl': 106,\n",
       " 'zh-CN': 122,\n",
       " 'de': 160,\n",
       " 'es': 197,\n",
       " 'pt': 207,\n",
       " 'tr': 247,\n",
       " 'ru': 939,\n",
       " 'en': 2522}"
      ]
     },
     "metadata": {},
     "execution_count": 5
    }
   ],
   "source": [
    "dict(sorted(lang_map.items(), key=lambda item: item[1]))"
   ]
  },
  {
   "cell_type": "code",
   "execution_count": 6,
   "metadata": {},
   "outputs": [
    {
     "output_type": "execute_result",
     "data": {
      "text/plain": [
       "63"
      ]
     },
     "metadata": {},
     "execution_count": 6
    }
   ],
   "source": [
    "len(lang_map.keys())"
   ]
  },
  {
   "cell_type": "code",
   "execution_count": 7,
   "metadata": {},
   "outputs": [],
   "source": [
    "words_count = 0\n",
    "with open('data/reviews_112_trans-en.jl', 'rb') as f:\n",
    "    for item in json_lines.reader(f):\n",
    "        trans_en = item['trans_en'].split(\" \")\n",
    "        words_count += len(trans_en)"
   ]
  },
  {
   "cell_type": "code",
   "execution_count": 8,
   "metadata": {},
   "outputs": [
    {
     "output_type": "execute_result",
     "data": {
      "text/plain": [
       "334018"
      ]
     },
     "metadata": {},
     "execution_count": 8
    }
   ],
   "source": [
    "words_count"
   ]
  },
  {
   "cell_type": "code",
   "execution_count": 12,
   "metadata": {},
   "outputs": [
    {
     "output_type": "stream",
     "name": "stdout",
     "text": [
      "241 2259 310 2190\n"
     ]
    }
   ],
   "source": [
    "vu_ea_count=0\n",
    "vu_count=0\n",
    "ea_count=0\n",
    "no_count=0\n",
    "with open('data/reviews_112_trans-en.jl', 'rb') as f:\n",
    "    for item in json_lines.reader(f):\n",
    "        if item['voted_up'] is True:\n",
    "            if item['early_access'] is True:\n",
    "                vu_ea_count += 1\n",
    "            else:\n",
    "                vu_count += 1\n",
    "        else:\n",
    "            if item['early_access'] is True:\n",
    "                ea_count += 1\n",
    "            else:\n",
    "                no_count += 1\n",
    "print(vu_ea_count, vu_count, ea_count, no_count)"
   ]
  },
  {
   "cell_type": "code",
   "execution_count": null,
   "metadata": {},
   "outputs": [],
   "source": []
  }
 ]
}