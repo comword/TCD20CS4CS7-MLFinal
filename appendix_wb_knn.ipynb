{
 "metadata": {
  "language_info": {
   "codemirror_mode": {
    "name": "ipython",
    "version": 3
   },
   "file_extension": ".py",
   "mimetype": "text/x-python",
   "name": "python",
   "nbconvert_exporter": "python",
   "pygments_lexer": "ipython3",
   "version": "3.7.9-final"
  },
  "orig_nbformat": 2,
  "kernelspec": {
   "name": "python3",
   "display_name": "Python 3",
   "language": "python"
  }
 },
 "nbformat": 4,
 "nbformat_minor": 2,
 "cells": [
  {
   "source": [
    "To run the code, please setup the anaconda environment by running the following code.\n",
    "```bash\n",
    "conda env create -f env-gpu.yaml\n",
    "conda activate ML\n",
    "```"
   ],
   "cell_type": "markdown",
   "metadata": {}
  },
  {
   "cell_type": "code",
   "execution_count": 1,
   "metadata": {},
   "outputs": [],
   "source": [
    "import numpy as np\n",
    "import json_lines\n",
    "\n",
    "from sklearn.model_selection import train_test_split\n",
    "from sklearn.feature_extraction.text import CountVectorizer, TfidfVectorizer\n",
    "from sklearn.metrics.pairwise import cosine_distances\n",
    "from sklearn.metrics import roc_auc_score, roc_curve, confusion_matrix, accuracy_score\n",
    "from sklearn.model_selection import GridSearchCV\n",
    "from sklearn.neighbors import KNeighborsClassifier"
   ]
  },
  {
   "cell_type": "code",
   "execution_count": 2,
   "metadata": {},
   "outputs": [
    {
     "output_type": "stream",
     "name": "stderr",
     "text": [
      "[nltk_data] Downloading package punkt to /Users/henorvell/nltk_data...\n[nltk_data]   Package punkt is already up-to-date!\n[nltk_data] Downloading package stopwords to\n[nltk_data]     /Users/henorvell/nltk_data...\n[nltk_data]   Package stopwords is already up-to-date!\n"
     ]
    },
    {
     "output_type": "execute_result",
     "data": {
      "text/plain": [
       "True"
      ]
     },
     "metadata": {},
     "execution_count": 2
    }
   ],
   "source": [
    "import nltk\n",
    "nltk.download('punkt')\n",
    "nltk.download('stopwords')"
   ]
  },
  {
   "cell_type": "code",
   "execution_count": 3,
   "metadata": {},
   "outputs": [],
   "source": [
    "X = []; y_voted_up=[]; y_early_access=[]\n",
    "with open('data/reviews_112_trans-en.jl', 'rb') as reader:\n",
    "    for line in json_lines.reader(reader):\n",
    "        X.append(line['trans_en'])\n",
    "        y_voted_up.append(line['voted_up'])\n",
    "        y_early_access.append(line['early_access'])"
   ]
  },
  {
   "cell_type": "code",
   "execution_count": 4,
   "metadata": {},
   "outputs": [],
   "source": [
    "y_voted_up = np.array(y_voted_up).astype(int)\n",
    "y_early_access = np.array(y_early_access).astype(int)"
   ]
  },
  {
   "cell_type": "code",
   "execution_count": 5,
   "metadata": {},
   "outputs": [],
   "source": [
    "vectorizer = TfidfVectorizer(\n",
    "    stop_words = nltk.corpus.stopwords.words('english'),\n",
    "    max_df=0.2, ngram_range=(1, 2))"
   ]
  },
  {
   "cell_type": "code",
   "execution_count": 6,
   "metadata": {},
   "outputs": [],
   "source": [
    "X_vec = vectorizer.fit_transform(X)"
   ]
  },
  {
   "cell_type": "code",
   "execution_count": 7,
   "metadata": {},
   "outputs": [],
   "source": [
    "train, test = train_test_split(np.arange(len(X)), test_size=0.1)"
   ]
  },
  {
   "cell_type": "code",
   "execution_count": 8,
   "metadata": {},
   "outputs": [],
   "source": [
    "tuned_parameters = {\n",
    "    \"n_neighbors\": [3, 4, 5]\n",
    "}\n",
    "model = KNeighborsClassifier(metric=cosine_distances)\n",
    "clf = GridSearchCV(model, tuned_parameters, cv=10, refit=False, scoring='accuracy')\n",
    "clf.fit(X_vec[train], y_voted_up[train])\n",
    "print(clf.best_estimator_.get_params())"
   ]
  },
  {
   "cell_type": "code",
   "execution_count": 9,
   "metadata": {},
   "outputs": [
    {
     "output_type": "stream",
     "name": "stdout",
     "text": [
      "Confusion matrix:\n[181, 90]\n[82, 147]\n"
     ]
    }
   ],
   "source": [
    "preds_proba = model.predict_proba(X_vec[test])\n",
    "preds = preds_proba.argmax(axis=-1)\n",
    "tn, fp, fn, tp = confusion_matrix(y_voted_up[test], preds).ravel()\n",
    "\n",
    "print('Confusion matrix:')\n",
    "print('[{}, {}]'.format(tp, fp))\n",
    "print('[{}, {}]'.format(fn, tn))"
   ]
  },
  {
   "cell_type": "code",
   "execution_count": 10,
   "metadata": {},
   "outputs": [
    {
     "output_type": "stream",
     "name": "stdout",
     "text": [
      "Accuracy: 0.6560\n"
     ]
    }
   ],
   "source": [
    "print('Accuracy: %.4f' % accuracy_score(y_voted_up[test], preds))"
   ]
  },
  {
   "cell_type": "code",
   "execution_count": 9,
   "metadata": {},
   "outputs": [],
   "source": [
    "def plot_roc(pred, y):\n",
    "    fpr, tpr, thresholds = roc_curve(y, pred)\n",
    "    try:\n",
    "        auc = roc_auc_score(y, pred)\n",
    "    except ValueError:\n",
    "        auc = \"undefined\"\n",
    "\n",
    "    fig, ax = plt.subplots(1, figsize=(8,8))\n",
    "    ax.plot(fpr, tpr, color='red')\n",
    "    ax.plot([0,1], [0,1], color='black', linestyle='--')\n",
    "    ax.set_title(f\"AUC: {auc}\")"
   ]
  },
  {
   "cell_type": "code",
   "execution_count": null,
   "metadata": {},
   "outputs": [],
   "source": [
    "plot_roc(preds_proba[:, 1], y_voted_up[test])"
   ]
  },
  {
   "source": [
    "# Kernelised kNN"
   ],
   "cell_type": "markdown",
   "metadata": {}
  },
  {
   "cell_type": "code",
   "execution_count": null,
   "metadata": {},
   "outputs": [],
   "source": [
    "def gaussian_kernel_builder(gamma):\n",
    "    def gaussian_kernel(distances):\n",
    "        weights = np.exp(-1*gamma*(distances**2))\n",
    "        return weights/np.sum(weights)\n",
    "    return gaussian_kernel"
   ]
  },
  {
   "cell_type": "code",
   "execution_count": null,
   "metadata": {},
   "outputs": [],
   "source": []
  }
 ]
}